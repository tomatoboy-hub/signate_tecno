{
 "cells": [
  {
   "cell_type": "markdown",
   "metadata": {},
   "source": [
    "## ライブラリのimport"
   ]
  },
  {
   "cell_type": "code",
   "execution_count": 4,
   "metadata": {},
   "outputs": [],
   "source": [
    "import pandas as pd\n",
    "import numpy as np\n",
    "from sklearn.model_selection import StratifiedKFold\n",
    "from sklearn.linear_model import LogisticRegression\n",
    "from sklearn.metrics import roc_auc_score\n"
   ]
  },
  {
   "cell_type": "markdown",
   "metadata": {},
   "source": [
    "## oofのdfセッティング"
   ]
  },
  {
   "cell_type": "code",
   "execution_count": 9,
   "metadata": {},
   "outputs": [],
   "source": [
    "oof_csv_list = [\n",
    "    \"/root/signate_tecno/input/oof_CV0.9998_v2.csv\",\n",
    "    \"/root/signate_tecno/input/oof_CV0.9995.csv\",\n",
    "    \"/root/signate_tecno/input/oof_CV0.9994_1027.csv\",\n",
    "    \"/root/signate_tecno/input/oof_CV0.9994_1030.csv\",\n",
    "]\n",
    "sub_csv_list = [\n",
    "    \"/root/signate_tecno/input/submission_CV_best.csv\",\n",
    "    \"/root/signate_tecno/input/submission_CV_lstm_v1.csv\",\n",
    "    \"/root/signate_tecno/input/submission_CV_effnet_lstm_1030_cutmix.csv\",\n",
    "    \"/root/signate_tecno/input/submission_CV_effnet_lstm_[1030_not_cutmix].csv\"\n",
    "\n",
    "\n",
    "]"
   ]
  },
  {
   "cell_type": "code",
   "execution_count": null,
   "metadata": {},
   "outputs": [],
   "source": [
    "pd.read_csv(\"/root/signate_tecno/input/submission_CV_best.csv\",header = None)"
   ]
  },
  {
   "cell_type": "code",
   "execution_count": null,
   "metadata": {},
   "outputs": [],
   "source": [
    "# Initialize an empty DataFrame\n",
    "stacking_df = pd.DataFrame()\n",
    "temp_df = pd.read_csv(\"/root/signate_tecno/input/oof_CV0.9998_v2.csv\")\n",
    "stacking_df['label'] = temp_df['label']\n",
    "# Loop through each CSV file in the list\n",
    "for i, csv_path in enumerate(oof_csv_list):\n",
    "    # Read the CSV file\n",
    "    temp_df = pd.read_csv(csv_path)\n",
    "    \n",
    "    # Add the 'oof' column to the stacking_df with a new column name\n",
    "    stacking_df[f'oof_{i}'] = temp_df['oof']\n",
    "\n",
    "# Display the resulting DataFrame\n",
    "print(stacking_df.head())\n",
    "\n",
    "stacking_test_df = pd.DataFrame()\n",
    "\n",
    "for i, csv_path in enumerate(sub_csv_list):\n",
    "    temp_df = pd.read_csv(csv_path,header = None)\n",
    "    temp_df.columns = ['file_name', 'label', 'oof']\n",
    "    stacking_test_df[f'oof_{i}'] = temp_df['oof']"
   ]
  },
  {
   "cell_type": "code",
   "execution_count": null,
   "metadata": {},
   "outputs": [],
   "source": [
    "stacking_test_df"
   ]
  },
  {
   "cell_type": "code",
   "execution_count": null,
   "metadata": {},
   "outputs": [],
   "source": [
    "stacking_test_df"
   ]
  },
  {
   "cell_type": "code",
   "execution_count": null,
   "metadata": {},
   "outputs": [],
   "source": []
  },
  {
   "cell_type": "code",
   "execution_count": 41,
   "metadata": {},
   "outputs": [],
   "source": [
    "# ====================================================\n",
    "# Configurations\n",
    "# ====================================================\n",
    "class CFG:\n",
    "  VER = 1.0\n",
    "  AUTHOR = 'shimizu'\n",
    "  COMPETITION = 'stacking'\n",
    "  exp = \"001\"\n",
    "  METHOD_LIST = ['logistic_regression']\n",
    "  seed = 42\n",
    "  n_folds = 5\n",
    "  target_col = \"label\"\n",
    "  metric = \"\"\n",
    "  metric_maximize_flag = True\n",
    "  num_boost_round = 1000\n",
    "  early_stopping_round = 500\n",
    "  verbose = 25\n",
    "  classification_lgb_params = {\n",
    "    'objective': 'binary',\n",
    "    'metric': 'auc',\n",
    "    'learning_rate': 0.1,  # 学習率を下げる\n",
    "    'seed': seed,\n",
    "    'verbose': -1,\n",
    "    'is_unbalance': True,\n",
    "    'boosting_type': 'gbdt',\n",
    "    'lambda_l1': 0.1,\n",
    "    'lambda_l2': 0.1,\n",
    "    'max_depth':32,\n",
    "    }\n",
    "  classification_cat_params = {\n",
    "            'learning_rate': 0.01,\n",
    "            'iterations': num_boost_round,\n",
    "            'random_seed': seed,\n",
    "            'task_type': 'CPU',\n",
    "            'eval_metric': 'AUC',\n",
    "        }\n",
    "  model_weight_dict = {'logistic_regression':1.0}\n"
   ]
  },
  {
   "cell_type": "code",
   "execution_count": null,
   "metadata": {},
   "outputs": [],
   "source": [
    "stacking_test_df"
   ]
  },
  {
   "cell_type": "code",
   "execution_count": null,
   "metadata": {},
   "outputs": [],
   "source": [
    "# Prepare the data\n",
    "from sklearn.svm import SVC\n",
    "y = stacking_df['label'].dropna().astype(int)  # Ensure labels are integers\n",
    "X = stacking_df[[\"oof_1\",\"oof_2\", \"oof_3\",\"oof_0\"]]\n",
    "\n",
    "# Initialize StratifiedKFold\n",
    "skf = StratifiedKFold(n_splits=CFG.n_folds, shuffle=True, random_state=CFG.seed)\n",
    "\n",
    "# Initialize arrays to store results\n",
    "oof_preds = np.zeros(X.shape[0])\n",
    "models = []\n",
    "\n",
    "# Stratified K-Fold Cross Validation\n",
    "for fold, (train_idx, val_idx) in enumerate(skf.split(X, y)):\n",
    "    print(f\"Fold {fold + 1}\")\n",
    "    \n",
    "    # Split data\n",
    "    X_train, X_val = X.iloc[train_idx], X.iloc[val_idx]\n",
    "    y_train, y_val = y.iloc[train_idx], y.iloc[val_idx]\n",
    "\n",
    "\n",
    "\n",
    "# モデルの初期化\n",
    "    model = SVC(probability=True, random_state=CFG.seed)\n",
    "    model.fit(X_train, y_train)\n",
    "    \n",
    "    # Predict on validation set\n",
    "    oof_preds[val_idx] = model.predict_proba(X_val)[:,1]\n",
    "\n",
    "    # Save the model\n",
    "    models.append(model)\n",
    "\n",
    "# Calculate overall AUC\n",
    "auc = roc_auc_score(y, oof_preds)\n",
    "print(f\"Overall AUC: {auc:.4f}\")"
   ]
  },
  {
   "cell_type": "code",
   "execution_count": 56,
   "metadata": {},
   "outputs": [],
   "source": [
    "def logistic_regression_inference(x_test:pd.DataFrame):\n",
    "    test_pred = np.zeros(len(x_test))\n",
    "    for fold in range(CFG.n_folds):\n",
    "        model = models[fold]\n",
    "        \n",
    "        pred = model.predict_proba(x_test)[:,1]\n",
    "        test_pred += pred\n",
    "    return test_pred / CFG.n_folds\n",
    "\n",
    "def model_inference(method:str,test_df:pd.DataFrame,features:list):\n",
    "    x_test = test_df[features]\n",
    "    if method == 'logistic_regression':\n",
    "        test_pred = logistic_regression_inference(x_test)\n",
    "    else:\n",
    "        raise ValueError(f\"Unknown method: {method}\")\n",
    "    return test_pred\n",
    "\n",
    "def Predicting(input_df:pd.DataFrame, features:list):\n",
    "    output_df = input_df.copy()\n",
    "    output_df['pred_prob'] = 0\n",
    "    for method in CFG.METHOD_LIST:\n",
    "        output_df[f'{method}_pred_prob'] = model_inference(method,input_df,features)\n",
    "        output_df['pred_prob'] += CFG.model_weight_dict[method]* output_df[f'{method}_pred_prob']\n",
    "    return output_df"
   ]
  },
  {
   "cell_type": "code",
   "execution_count": 57,
   "metadata": {},
   "outputs": [],
   "source": [
    "test_df = Predicting(stacking_test_df,[\"oof_1\",\"oof_2\", \"oof_3\",\"oof_0\"])"
   ]
  },
  {
   "cell_type": "code",
   "execution_count": null,
   "metadata": {},
   "outputs": [],
   "source": [
    "test_df"
   ]
  },
  {
   "cell_type": "code",
   "execution_count": null,
   "metadata": {},
   "outputs": [],
   "source": [
    "# Concatenate submit_df and test_df along columns\n",
    "merged_df = pd.concat([test_df, submit], axis=1)\n",
    "merged_df.tail()"
   ]
  },
  {
   "cell_type": "code",
   "execution_count": null,
   "metadata": {},
   "outputs": [],
   "source": []
  },
  {
   "cell_type": "code",
   "execution_count": null,
   "metadata": {},
   "outputs": [],
   "source": [
    "# Create a DataFrame with binary values based on the condition\n",
    "binary_df = (merged_df[['oof_0', 'oof_1', 'oof_2', 'oof_3','image_path']])\n",
    "binary_df =(binary_df[['oof_0', 'oof_1', 'oof_2', 'oof_3']] > 0.5).astype(int)\n",
    "# Find rows where there is a disagreement among the columns\n",
    "disagreement_rows = binary_df[binary_df.nunique(axis=1) > 1]\n",
    "\n"
   ]
  },
  {
   "cell_type": "code",
   "execution_count": null,
   "metadata": {},
   "outputs": [],
   "source": [
    "# Create a DataFrame with binary values based on the condition\n",
    "binary_df = merged_df[['oof_0', 'oof_1', 'oof_2', 'oof_3', 'image_path']]\n",
    "\n",
    "# 'oof'列をバイナリ化\n",
    "binary_df[['oof_0', 'oof_1', 'oof_2', 'oof_3']] = (binary_df[['oof_0', 'oof_1', 'oof_2', 'oof_3']] > 0.5).astype(int)\n",
    "\n",
    "# 'oof'列において意見が異なる行を抽出\n",
    "disagreement_rows = binary_df[binary_df[['oof_0', 'oof_1', 'oof_2', 'oof_3']].nunique(axis=1) > 1]\n",
    "\n",
    "# 該当するimage_pathを取得\n",
    "image_paths = disagreement_rows['image_path']\n",
    "\n",
    "# 必要に応じて結果を表示\n",
    "\n"
   ]
  },
  {
   "cell_type": "code",
   "execution_count": 88,
   "metadata": {},
   "outputs": [],
   "source": [
    "image_paths.to_csv(\"/root/signate_tecno/submit/disagreement_indices.csv\",header = None)"
   ]
  },
  {
   "cell_type": "code",
   "execution_count": null,
   "metadata": {},
   "outputs": [],
   "source": []
  },
  {
   "cell_type": "code",
   "execution_count": 59,
   "metadata": {},
   "outputs": [],
   "source": [
    "submit = pd.read_csv(f\"/root/signate_tecno/input/sample_submit.csv\", header=None, names=['image_path', 'label'])"
   ]
  },
  {
   "cell_type": "code",
   "execution_count": null,
   "metadata": {},
   "outputs": [],
   "source": [
    "submit.shape"
   ]
  },
  {
   "cell_type": "code",
   "execution_count": null,
   "metadata": {},
   "outputs": [],
   "source": [
    "test_df.shape"
   ]
  },
  {
   "cell_type": "code",
   "execution_count": null,
   "metadata": {},
   "outputs": [],
   "source": [
    "submit"
   ]
  },
  {
   "cell_type": "code",
   "execution_count": null,
   "metadata": {},
   "outputs": [],
   "source": [
    "submit['label'] = (test_df[\"pred_prob\"] > 0.5).astype(int)\n",
    "submit['label'].value_counts()"
   ]
  },
  {
   "cell_type": "code",
   "execution_count": null,
   "metadata": {},
   "outputs": [],
   "source": [
    "submit"
   ]
  },
  {
   "cell_type": "code",
   "execution_count": 61,
   "metadata": {},
   "outputs": [],
   "source": [
    "submit['label'] = submit['label'].apply(lambda x: 0 if x == 1.0 else 1)"
   ]
  },
  {
   "cell_type": "code",
   "execution_count": 65,
   "metadata": {},
   "outputs": [],
   "source": [
    "submit.to_csv(f'/root/signate_tecno/input/submission_stacking_svc[1030].csv',index = False, header = None)\n"
   ]
  }
 ],
 "metadata": {
  "kernelspec": {
   "display_name": "venv",
   "language": "python",
   "name": "python3"
  },
  "language_info": {
   "codemirror_mode": {
    "name": "ipython",
    "version": 3
   },
   "file_extension": ".py",
   "mimetype": "text/x-python",
   "name": "python",
   "nbconvert_exporter": "python",
   "pygments_lexer": "ipython3",
   "version": "3.8.10"
  }
 },
 "nbformat": 4,
 "nbformat_minor": 2
}
